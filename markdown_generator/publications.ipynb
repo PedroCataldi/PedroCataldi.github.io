{
 "cells": [
  {
   "cell_type": "markdown",
   "metadata": {
    "deletable": true,
    "editable": true
   },
   "source": [
    "# Publications markdown generator for academicpages\n",
    "\n",
    "Takes a TSV of publications with metadata and converts them for use with [academicpages.github.io](academicpages.github.io). This is an interactive Jupyter notebook ([see more info here](http://jupyter-notebook-beginner-guide.readthedocs.io/en/latest/what_is_jupyter.html)). The core python code is also in `publications.py`. Run either from the `markdown_generator` folder after replacing `publications.tsv` with one containing your data.\n",
    "\n",
    "TODO: Make this work with BibTex and other databases of citations, rather than Stuart's non-standard TSV format and citation style.\n"
   ]
  },
  {
   "cell_type": "markdown",
   "metadata": {},
   "source": [
    "## Data format\n",
    "\n",
    "The TSV needs to have the following columns: pub_date, title, venue, excerpt, citation, site_url, and paper_url, with a header at the top. \n",
    "\n",
    "- `excerpt` and `paper_url` can be blank, but the others must have values. \n",
    "- `pub_date` must be formatted as YYYY-MM-DD.\n",
    "- `url_slug` will be the descriptive part of the .md file and the permalink URL for the page about the paper. The .md file will be `YYYY-MM-DD-[url_slug].md` and the permalink will be `https://[yourdomain]/publications/YYYY-MM-DD-[url_slug]`\n",
    "\n",
    "This is how the raw file looks (it doesn't look pretty, use a spreadsheet or other program to edit and create)."
   ]
  },
  {
   "cell_type": "code",
   "execution_count": 57,
   "metadata": {
    "collapsed": false
   },
   "outputs": [
    {
     "name": "stdout",
     "output_type": "stream",
     "text": [
      "pub_date\ttitle\tvenue\texcerpt\tcitation\turl_slug\tpaper_url\n",
      "2023-02-01\tEvolution of dark matter haloes in CIELO simulations   \tBAAA64\tThis article analyze the dark matter (dm) halo evolution through time. For this study we use a Milky Way like haloes subsample from CIELO (ChemodynamIcal propertiEs of gaLaxies and the cOsmic web) project. This project aims at studying the formation of galaxies in different environments using zoom-ins simulations.\tCataldi, et. al. (2023b)\tEvolution of dark matter haloes in CIELO simulations   \thttp://astronomiaargentina.fcaglp.unlp.edu.ar/article/printPreview/id/39\n",
      "2023-05-01\tRedshift evolution of the dark matter haloes shapes\tMNRAS\tIn this work, we aim at investigating the morphology evolution of Milky Way mass-like dark matter haloes selected from the CIELO and IllustrisTNG Projects. The connection between halo shapes and their environment has been studied in previous works at z=0 but their connection remains yet to be fully understood. We focus on the evolution across cosmic time of the halo shapes and the relation with the infalling material, using hydrodynamical simulations\tCataldi, et. al. (2023a)\tRedshift evolution of the dark matter haloes shapes\thttps://doi.org/10.1093/mnras/stad1601\n",
      "2022-10-01\tFingerprints of modified gravity on galaxies in voids\tMNRAS\tIn this work, we search for detectable signatures of f(R) gravity and its chameleon screening mechanism in the baryonic and dark matter properties of simulated void galaxies. The enhancement of the gravitational acceleration can have a meaningful impact on the scaling relations as well as on the halo morphology. The galaxy rotational velocity field (calculated with the velocity of the gas disc and the acceleration fields) deviates from the typical values of the Tully-Fisher Relation (TFR) in GR\tCataldi, et. al. (2022)\tFingerprints of modified gravity on galaxies in voids\t https://doi.org/10.1093/mnras/stac2122\n",
      "2020-12-01\tBaryons shaping dark matter haloes  \tMNRAS\tIn this work we aim at investigating the effects of baryons on the dark matter haloes structure, focusing on the correlation between the presence and importance of stellar discs and the halo shapes. We study the properties of a subsample of DM haloes from Fenix and eagle cosmological simulations.\tCataldi, et. al. (2020)\tBaryons shaping dark matter haloes  \thttp://dx.doi.org/10.1093/mnras/staa3988\n",
      "2019-02-01\tDark matter response to galaxy assembly history \tA&A\tIn this article, we study the properties of four Milky Way mass dark matter haloes from the Aquarius project during their assembly history, between z = 0−4.\tArtale, et. al. (2019)\tDark matter response to galaxy assembly history \thttp://dx.doi.org/10.1051/0004-6361/201834096\n"
     ]
    }
   ],
   "source": [
    "!cat publications.tsv"
   ]
  },
  {
   "cell_type": "markdown",
   "metadata": {},
   "source": [
    "## Import pandas\n",
    "\n",
    "We are using the very handy pandas library for dataframes."
   ]
  },
  {
   "cell_type": "code",
   "execution_count": 58,
   "metadata": {
    "collapsed": true,
    "deletable": true,
    "editable": true
   },
   "outputs": [],
   "source": [
    "import pandas as pd"
   ]
  },
  {
   "cell_type": "markdown",
   "metadata": {},
   "source": [
    "## Import TSV\n",
    "\n",
    "Pandas makes this easy with the read_csv function. We are using a TSV, so we specify the separator as a tab, or `\\t`.\n",
    "\n",
    "I found it important to put this data in a tab-separated values format, because there are a lot of commas in this kind of data and comma-separated values can get messed up. However, you can modify the import statement, as pandas also has read_excel(), read_json(), and others."
   ]
  },
  {
   "cell_type": "code",
   "execution_count": 59,
   "metadata": {
    "collapsed": false,
    "deletable": true,
    "editable": true
   },
   "outputs": [
    {
     "data": {
      "text/html": [
       "<div>\n",
       "<style scoped>\n",
       "    .dataframe tbody tr th:only-of-type {\n",
       "        vertical-align: middle;\n",
       "    }\n",
       "\n",
       "    .dataframe tbody tr th {\n",
       "        vertical-align: top;\n",
       "    }\n",
       "\n",
       "    .dataframe thead th {\n",
       "        text-align: right;\n",
       "    }\n",
       "</style>\n",
       "<table border=\"1\" class=\"dataframe\">\n",
       "  <thead>\n",
       "    <tr style=\"text-align: right;\">\n",
       "      <th></th>\n",
       "      <th>pub_date</th>\n",
       "      <th>title</th>\n",
       "      <th>venue</th>\n",
       "      <th>excerpt</th>\n",
       "      <th>citation</th>\n",
       "      <th>url_slug</th>\n",
       "      <th>paper_url</th>\n",
       "    </tr>\n",
       "  </thead>\n",
       "  <tbody>\n",
       "    <tr>\n",
       "      <th>0</th>\n",
       "      <td>2023-02-01</td>\n",
       "      <td>Evolution of dark matter haloes in CIELO simul...</td>\n",
       "      <td>BAAA64</td>\n",
       "      <td>This article analyze the dark matter (dm) halo...</td>\n",
       "      <td>Cataldi, et. al. (2023b)</td>\n",
       "      <td>Evolution of dark matter haloes in CIELO simul...</td>\n",
       "      <td>http://astronomiaargentina.fcaglp.unlp.edu.ar/...</td>\n",
       "    </tr>\n",
       "    <tr>\n",
       "      <th>1</th>\n",
       "      <td>2023-05-01</td>\n",
       "      <td>Redshift evolution of the dark matter haloes s...</td>\n",
       "      <td>MNRAS</td>\n",
       "      <td>In this work, we aim at investigating the morp...</td>\n",
       "      <td>Cataldi, et. al. (2023a)</td>\n",
       "      <td>Redshift evolution of the dark matter haloes s...</td>\n",
       "      <td>https://doi.org/10.1093/mnras/stad1601</td>\n",
       "    </tr>\n",
       "    <tr>\n",
       "      <th>2</th>\n",
       "      <td>2022-10-01</td>\n",
       "      <td>Fingerprints of modified gravity on galaxies i...</td>\n",
       "      <td>MNRAS</td>\n",
       "      <td>In this work, we search for detectable signatu...</td>\n",
       "      <td>Cataldi, et. al. (2022)</td>\n",
       "      <td>Fingerprints of modified gravity on galaxies i...</td>\n",
       "      <td>https://doi.org/10.1093/mnras/stac2122</td>\n",
       "    </tr>\n",
       "    <tr>\n",
       "      <th>3</th>\n",
       "      <td>2020-12-01</td>\n",
       "      <td>Baryons shaping dark matter haloes</td>\n",
       "      <td>MNRAS</td>\n",
       "      <td>In this work we aim at investigating the effec...</td>\n",
       "      <td>Cataldi, et. al. (2020)</td>\n",
       "      <td>Baryons shaping dark matter haloes</td>\n",
       "      <td>http://dx.doi.org/10.1093/mnras/staa3988</td>\n",
       "    </tr>\n",
       "    <tr>\n",
       "      <th>4</th>\n",
       "      <td>2019-02-01</td>\n",
       "      <td>Dark matter response to galaxy assembly history</td>\n",
       "      <td>A&amp;A</td>\n",
       "      <td>In this article, we study the properties of fo...</td>\n",
       "      <td>Artale, et. al. (2019)</td>\n",
       "      <td>Dark matter response to galaxy assembly history</td>\n",
       "      <td>http://dx.doi.org/10.1051/0004-6361/201834096</td>\n",
       "    </tr>\n",
       "  </tbody>\n",
       "</table>\n",
       "</div>"
      ],
      "text/plain": [
       "     pub_date                                              title   venue  \\\n",
       "0  2023-02-01  Evolution of dark matter haloes in CIELO simul...  BAAA64   \n",
       "1  2023-05-01  Redshift evolution of the dark matter haloes s...   MNRAS   \n",
       "2  2022-10-01  Fingerprints of modified gravity on galaxies i...   MNRAS   \n",
       "3  2020-12-01               Baryons shaping dark matter haloes     MNRAS   \n",
       "4  2019-02-01   Dark matter response to galaxy assembly history      A&A   \n",
       "\n",
       "                                             excerpt  \\\n",
       "0  This article analyze the dark matter (dm) halo...   \n",
       "1  In this work, we aim at investigating the morp...   \n",
       "2  In this work, we search for detectable signatu...   \n",
       "3  In this work we aim at investigating the effec...   \n",
       "4  In this article, we study the properties of fo...   \n",
       "\n",
       "                   citation  \\\n",
       "0  Cataldi, et. al. (2023b)   \n",
       "1  Cataldi, et. al. (2023a)   \n",
       "2   Cataldi, et. al. (2022)   \n",
       "3   Cataldi, et. al. (2020)   \n",
       "4    Artale, et. al. (2019)   \n",
       "\n",
       "                                            url_slug  \\\n",
       "0  Evolution of dark matter haloes in CIELO simul...   \n",
       "1  Redshift evolution of the dark matter haloes s...   \n",
       "2  Fingerprints of modified gravity on galaxies i...   \n",
       "3               Baryons shaping dark matter haloes     \n",
       "4   Dark matter response to galaxy assembly history    \n",
       "\n",
       "                                           paper_url  \n",
       "0  http://astronomiaargentina.fcaglp.unlp.edu.ar/...  \n",
       "1             https://doi.org/10.1093/mnras/stad1601  \n",
       "2             https://doi.org/10.1093/mnras/stac2122  \n",
       "3           http://dx.doi.org/10.1093/mnras/staa3988  \n",
       "4      http://dx.doi.org/10.1051/0004-6361/201834096  "
      ]
     },
     "execution_count": 59,
     "metadata": {},
     "output_type": "execute_result"
    }
   ],
   "source": [
    "publications = pd.read_csv(\"publications.tsv\", sep=\"\\t\", header=0)\n",
    "publications\n"
   ]
  },
  {
   "cell_type": "markdown",
   "metadata": {},
   "source": [
    "## Escape special characters\n",
    "\n",
    "YAML is very picky about how it takes a valid string, so we are replacing single and double quotes (and ampersands) with their HTML encoded equivilents. This makes them look not so readable in raw format, but they are parsed and rendered nicely."
   ]
  },
  {
   "cell_type": "code",
   "execution_count": 60,
   "metadata": {
    "collapsed": true,
    "deletable": true,
    "editable": true
   },
   "outputs": [],
   "source": [
    "html_escape_table = {\n",
    "    \"&\": \"&amp;\",\n",
    "    '\"': \"&quot;\",\n",
    "    \"'\": \"&apos;\"\n",
    "    }\n",
    "\n",
    "def html_escape(text):\n",
    "    \"\"\"Produce entities within text.\"\"\"\n",
    "    return \"\".join(html_escape_table.get(c,c) for c in text)"
   ]
  },
  {
   "cell_type": "markdown",
   "metadata": {},
   "source": [
    "## Creating the markdown files\n",
    "\n",
    "This is where the heavy lifting is done. This loops through all the rows in the TSV dataframe, then starts to concatentate a big string (```md```) that contains the markdown for each type. It does the YAML metadata first, then does the description for the individual page."
   ]
  },
  {
   "cell_type": "code",
   "execution_count": 61,
   "metadata": {
    "collapsed": false,
    "deletable": true,
    "editable": true
   },
   "outputs": [],
   "source": [
    "import os\n",
    "for row, item in publications.iterrows():\n",
    "    \n",
    "    md_filename = str(item.pub_date) + \"-\" + item.url_slug + \".md\"\n",
    "    html_filename = str(item.pub_date) + \"-\" + item.url_slug\n",
    "    year = item.pub_date[:4]\n",
    "    \n",
    "    ## YAML variables\n",
    "    \n",
    "    md = \"---\\ntitle: \\\"\"   + item.title + '\"\\n'\n",
    "    \n",
    "    md += \"\"\"collection: publications\"\"\"\n",
    "    \n",
    "    md += \"\"\"\\npermalink: /publication/\"\"\" + html_filename\n",
    "    \n",
    "    if len(str(item.excerpt)) > 5:\n",
    "        md += \"\\nexcerpt: '\" + html_escape(item.excerpt) + \"'\"\n",
    "    \n",
    "    md += \"\\ndate: \" + str(item.pub_date) \n",
    "    \n",
    "    md += \"\\nvenue: '\" + html_escape(item.venue) + \"'\"\n",
    "    \n",
    "    if len(str(item.paper_url)) > 5:\n",
    "        md += \"\\npaperurl: '\" + item.paper_url + \"'\"\n",
    "    \n",
    "    md += \"\\ncitation: '\" + html_escape(item.citation) + \"'\"\n",
    "    \n",
    "    md += \"\\n---\"\n",
    "    \n",
    "    ## Markdown description for individual page\n",
    "        \n",
    "    if len(str(item.excerpt)) > 5:\n",
    "        md += \"\\n\" + html_escape(item.excerpt) + \"\\n\"\n",
    "    \n",
    "    if len(str(item.paper_url)) > 5:\n",
    "        md += \"\\n[Download paper here](\" + item.paper_url + \")\\n\" \n",
    "        \n",
    "    md += \"\\nRecommended citation: \" + item.citation\n",
    "    \n",
    "    md_filename = os.path.basename(md_filename)\n",
    "       \n",
    "    with open(\"../_publications/\" + md_filename, 'w') as f:\n",
    "        f.write(md)"
   ]
  },
  {
   "cell_type": "markdown",
   "metadata": {},
   "source": [
    "These files are in the publications directory, one directory below where we're working from."
   ]
  },
  {
   "cell_type": "code",
   "execution_count": 62,
   "metadata": {
    "collapsed": false,
    "deletable": true,
    "editable": true
   },
   "outputs": [
    {
     "name": "stdout",
     "output_type": "stream",
     "text": [
      "'2019-02-01-Dark matter response to galaxy assembly history .md'\n",
      "'2020-12-01-Baryons shaping dark matter haloes  .md'\n",
      "'2022-10-01-Fingerprints of modified gravity on galaxies in voids.md'\n",
      "'2023-02-01-Evolution of dark matter haloes in CIELO simulations   .md'\n",
      "'2023-05-01-Redshift evolution of the dark matter haloes shapes.md'\n"
     ]
    }
   ],
   "source": [
    "!ls ../_publications/"
   ]
  },
  {
   "cell_type": "code",
   "execution_count": 63,
   "metadata": {
    "collapsed": false,
    "deletable": true,
    "editable": true
   },
   "outputs": [
    {
     "name": "stdout",
     "output_type": "stream",
     "text": [
      "cat: ../_publications/2009-10-01-paper-title-number-1.md: No such file or directory\n"
     ]
    }
   ],
   "source": [
    "!cat ../_publications/2009-10-01-paper-title-number-1.md"
   ]
  },
  {
   "cell_type": "code",
   "execution_count": null,
   "metadata": {
    "collapsed": true,
    "deletable": true,
    "editable": true
   },
   "outputs": [],
   "source": []
  }
 ],
 "metadata": {
  "kernelspec": {
   "display_name": "Python 3",
   "language": "python",
   "name": "python3"
  },
  "language_info": {
   "codemirror_mode": {
    "name": "ipython",
    "version": 3
   },
   "file_extension": ".py",
   "mimetype": "text/x-python",
   "name": "python",
   "nbconvert_exporter": "python",
   "pygments_lexer": "ipython3",
   "version": "3.9.0"
  }
 },
 "nbformat": 4,
 "nbformat_minor": 0
}
