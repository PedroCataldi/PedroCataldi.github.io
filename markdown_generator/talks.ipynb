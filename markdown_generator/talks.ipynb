{
 "cells": [
  {
   "cell_type": "markdown",
   "metadata": {
    "deletable": true,
    "editable": true
   },
   "source": [
    "# Talks markdown generator for academicpages\n",
    "\n",
    "Takes a TSV of talks with metadata and converts them for use with [academicpages.github.io](academicpages.github.io). This is an interactive Jupyter notebook ([see more info here](http://jupyter-notebook-beginner-guide.readthedocs.io/en/latest/what_is_jupyter.html)). The core python code is also in `talks.py`. Run either from the `markdown_generator` folder after replacing `talks.tsv` with one containing your data.\n",
    "\n",
    "TODO: Make this work with BibTex and other databases, rather than Stuart's non-standard TSV format and citation style."
   ]
  },
  {
   "cell_type": "code",
   "execution_count": 9,
   "metadata": {
    "collapsed": false,
    "deletable": true,
    "editable": true
   },
   "outputs": [],
   "source": [
    "import pandas as pd\n",
    "import os"
   ]
  },
  {
   "cell_type": "markdown",
   "metadata": {},
   "source": [
    "## Data format\n",
    "\n",
    "The TSV needs to have the following columns: title, type, url_slug, venue, date, location, talk_url, description, with a header at the top. Many of these fields can be blank, but the columns must be in the TSV.\n",
    "\n",
    "- Fields that cannot be blank: `title`, `url_slug`, `date`. All else can be blank. `type` defaults to \"Talk\" \n",
    "- `date` must be formatted as YYYY-MM-DD.\n",
    "- `url_slug` will be the descriptive part of the .md file and the permalink URL for the page about the paper. \n",
    "    - The .md file will be `YYYY-MM-DD-[url_slug].md` and the permalink will be `https://[yourdomain]/talks/YYYY-MM-DD-[url_slug]`\n",
    "    - The combination of `url_slug` and `date` must be unique, as it will be the basis for your filenames\n",
    "\n",
    "This is how the raw file looks (it doesn't look pretty, use a spreadsheet or other program to edit and create)."
   ]
  },
  {
   "cell_type": "code",
   "execution_count": 10,
   "metadata": {
    "collapsed": false
   },
   "outputs": [
    {
     "name": "stdout",
     "output_type": "stream",
     "text": [
      "title\ttype\turl_slug\tvenue\tdate\tlocation\ttalk_url\tdescription\n",
      "Assembly bias and galaxy conformity in cosmo-dc2\tTalk\ttalk-1\t\"III Workshop on the halo-galaxy\n",
      "Connection\"\t2023-07-01\tAtacama, Chile\thttps://sites.google.com/uda.cl/atacama-2023/\tIn my talk I will present my partial results in the search for Galaxy Assembly Bias in observational data. We focus on how the alignments between central and satellite galaxies vary according to their morphology and color (known as galactic conformity), using cosmoDC2 galaxy catalogs. These catalogs were designed to generate a data-set similar to future LSST surveys to obtain predictions that can be evaluated in the context of future LSST results.\n",
      "Evolution of the dark matter haloes shapes\tTalk\ttalk-2\t\"4th Regional Extragalactic Astronomy\n",
      "Meeting, 60 Years Of The Sersic Law\"\t2023-12-04\tCórdoba, Argentina\thttps://extragalacticmeeting.conicet.unc.edu.ar/\tIn this work, we aim at investigating the morphology evolution of Milky Way mass-like dark matter haloes  selected from the  CIELO  and IllustrisTNG Projects. The connection between halo shapes and their environment has been studied in previous works at z=0 but their connection remains yet to be fully understood. We focus on the evolution across cosmic time of the halo shapes and the relation with the infalling material, using hydrodynamical simulations. Our findings show that haloes tend to be more triaxial at earlier times as a consequence of stronger accretion in the direction of the filaments. As the haloes evolve towards a dominant isotropic accretion mode and relaxation, their shape at 20 percent of the virial radius becomes more spherical. In agreement with previous results, baryons have an important effect within the inner regions of the haloes, driving them from triaxial to rounder shapes. We also find a correlation between the strength of the quadrupole infalling mode and the degree of ellipticity of the haloes: as the filament strength decreases steadily with redshift, the haloes became more spherical and less elliptical.  \n",
      "Fingerprints of modified gravity effects on galaxies in voids\tTalk\ttalk-3\t1 st Rio DM meeting\t2023-05-01\tRio de Janeiro,Brazil\thttps://www.youtube.com/@CBPFMCTI\t\"We search for detectable signatures of 𝑓 (𝑅) gravity and its chameleon screening mechanism in the baryonic and dark matter\n",
      "(DM) properties of simulated void galaxies. The enhancement of the gravitational acceleration can have a meaningful impact on\n",
      "the scaling relations as well as on the halo morphology.\"\n",
      "Redshift evolution of the dark matter haloes shapes\tTalk\ttalk-4\tA journey through galactic environments\t2023-10-01\tPorto Ercole, Italy\thttps://galaxylifecycle.wixsite.com/galacticjourney\t\"In this work, we aim at investigating the morphology evolution of Milky Way mass-like dark matter haloes selected from the CIELO\n",
      "and IllustrisTNG Projects. The connection between halo shapes and their environment has been studied in previous works at\n",
      "\n",
      "z=0. We focus on the evolution across cosmic time of the halo shapes and the relation with the infalling material.\"\n",
      "Feedback por binarias de rayos x sobre el ism y el igm\tPoster\tPoster-1\t64th Annual Reunion of the Argentinian Astronomy Association\t2022-09-01\tBuenos Aires,Argentina\thttps://www.fisica.org.ar/2022/05/05/64a-reunion-anual-de-la-asociacion-argentina-de-astronomia-primera-circular/\t\"Las caracterçisticas de las primeras generaciones de estrellas, formadas en el Amanecer Còsmico\n",
      "(cuando el Universo tenía una edad de entre 108 Y 109 años) y su influencia en la evolucón posterior de las\n",
      "galaxias, son tópicos fundamentales de investigación en astrofísica extragaláctica. Recientemente, diversos autores\n",
      "han mostrado la importancia de las binarias de rayos X como agentes de inyección de energía sobre el medio\n",
      "circundante en esa  ́epoca. La determinación de las características de sus poblaciones es entonces importante\n",
      "para comprender en profundidad los efectos sobre la regulación de la formación estelar cósmica o la reionización\n",
      "del medio intergaláctico, entre otros. El cálculo de los efectos del feedback en el Amanecer Còsmico requiere la\n",
      "implementación de simulaciones numéricas cosmológicas hidrodinámicas, debido a que los mecanismos físicos que\n",
      "determinan la transferencia de materia y energía entre el gas y las estrellas son altamente no lineales, y ocurren\n",
      "en diversas escalas de tiempo, longitud y masa. En este trabajo presentaremos un modelo semiempírico para la\n",
      "luminosidad y el tamaño de las poblaciones de binarias de rayos X de alta masa en galaxias con formación estelar\n",
      "activa en el Universo temprano. Nuestros resultados preliminares sugieren que el feedback producido por estas\n",
      "poblaciones tendría un efecto apreciable sobre el ISM a altos redshifts, y que el mismo sería comparable al efecto\n",
      "del feedback producido por explosiones de supernovas.\"\n",
      "Study on the evolution of dark matter haloes in CIELO simulations\tTalk\tTalk-5\t64th Annual Reunion of the Argentinian Astronomy Association, \t2022-09-01\tBuenos Aires,Argentina\thttps://www.fisica.org.ar/2022/05/05/64a-reunion-anual-de-la-asociacion-argentina-de-astronomia-primera-circular/\tThis article analyze the dark matter (dm) halo evolution through time. For this study we use a Milky Way like haloes subsample from CIELO (ChemodynamIcal propertiEs of gaLaxies and the cOsmic web) project. This project aims at studying the formation of galaxies in different environments using zoom-ins simulations. We analyse the relation of the properties of the dm haloes in the inner and outer regions. In particular, we inspect the effects on the halo shapes and the assembly process.\n",
      " Fingerprints of modified gravity effects on galaxies in voids\tTalk\tTalk-6\t63th Annual Reunion of the Argentinian Astronomy Association\t2021-09-01\tSan Luis, Argentina\thttps://www.fisica.org.ar/2022/05/05/63a-reunion-anual-de-la-asociacion-argentina-de-astronomia-primera-circular/\tWe found in this article that for a given stellarmass, 𝑓 (𝑅) gravity tends to produce greater maximum velocities. On the other hand, the mass in haloes in 𝑓 (𝑅) gravity is more concentrated than their counterparts in GR. This trend changes when the concentration is calculated with the dynamical density profile, which takes into account the unscreened outer regions of the halo. Stellar discs interact with the overall potential well in the central regions, modifying the morphology of the screening regions and reshaping them. We find a trend for galaxies with a more dominant stellar disc to deviate further from round screening regions. We find that small haloes are less triaxial and more round in 𝑓 (𝑅) than their GR counterparts. The difference between halo morphology becomes smaller in 𝑓 (𝑅) haloes whose inner regions are screened. These results suggest possible observables that could unveil modified gravity effects on galaxies in voids in future cosmological tests of gravity.\n",
      "Baryons shaping dark matter haloes\tTalk\tTalk-7\tII Reunion Bi-National AAA-SOCHIAS\t2018-10-01\tLa Serena, Chile\thttps://sochias.cl/second-binational-meeting-aaa-sochias/\tIn this work we aim at investigating the effects of baryons on the dark matter (DM) haloes structure, focusing on the correlation between the presence and importance of stellar discs and the halo shapes. We study the properties of a subsample of DM haloes from Fenix and eagle cosmological simulations.\n",
      "Studying the dark matter halo shape\tTalk\tTalk-8\tFriends-of-friends virtual meeting\t2018-08-01\tCordoba, Argentina\t\t\n",
      "\"Estudio numérico de los halos de materia\n",
      "oscura en simulaciones cosmológicas\"\tTalk\tTalk-9\tn 60th Annual Reunion of the Argentinian Astronomy Association\t2017-08-01\tMendoza, Argentina\thttp://www.astronomiaargentina.org.ar/reuniones\t\n"
     ]
    }
   ],
   "source": [
    "!cat talks.tsv"
   ]
  },
  {
   "cell_type": "markdown",
   "metadata": {},
   "source": [
    "## Import TSV\n",
    "\n",
    "Pandas makes this easy with the read_csv function. We are using a TSV, so we specify the separator as a tab, or `\\t`.\n",
    "\n",
    "I found it important to put this data in a tab-separated values format, because there are a lot of commas in this kind of data and comma-separated values can get messed up. However, you can modify the import statement, as pandas also has read_excel(), read_json(), and others."
   ]
  },
  {
   "cell_type": "code",
   "execution_count": 11,
   "metadata": {
    "collapsed": false,
    "deletable": true,
    "editable": true
   },
   "outputs": [
    {
     "data": {
      "text/html": [
       "<div>\n",
       "<style scoped>\n",
       "    .dataframe tbody tr th:only-of-type {\n",
       "        vertical-align: middle;\n",
       "    }\n",
       "\n",
       "    .dataframe tbody tr th {\n",
       "        vertical-align: top;\n",
       "    }\n",
       "\n",
       "    .dataframe thead th {\n",
       "        text-align: right;\n",
       "    }\n",
       "</style>\n",
       "<table border=\"1\" class=\"dataframe\">\n",
       "  <thead>\n",
       "    <tr style=\"text-align: right;\">\n",
       "      <th></th>\n",
       "      <th>title</th>\n",
       "      <th>type</th>\n",
       "      <th>url_slug</th>\n",
       "      <th>venue</th>\n",
       "      <th>date</th>\n",
       "      <th>location</th>\n",
       "      <th>talk_url</th>\n",
       "      <th>description</th>\n",
       "    </tr>\n",
       "  </thead>\n",
       "  <tbody>\n",
       "    <tr>\n",
       "      <th>0</th>\n",
       "      <td>Assembly bias and galaxy conformity in cosmo-dc2</td>\n",
       "      <td>Talk</td>\n",
       "      <td>talk-1</td>\n",
       "      <td>III Workshop on the halo-galaxy\\nConnection</td>\n",
       "      <td>2023-07-01</td>\n",
       "      <td>Atacama, Chile</td>\n",
       "      <td>https://sites.google.com/uda.cl/atacama-2023/</td>\n",
       "      <td>In my talk I will present my partial results i...</td>\n",
       "    </tr>\n",
       "    <tr>\n",
       "      <th>1</th>\n",
       "      <td>Evolution of the dark matter haloes shapes</td>\n",
       "      <td>Talk</td>\n",
       "      <td>talk-2</td>\n",
       "      <td>4th Regional Extragalactic Astronomy\\nMeeting,...</td>\n",
       "      <td>2023-12-04</td>\n",
       "      <td>Córdoba, Argentina</td>\n",
       "      <td>https://extragalacticmeeting.conicet.unc.edu.ar/</td>\n",
       "      <td>In this work, we aim at investigating the morp...</td>\n",
       "    </tr>\n",
       "    <tr>\n",
       "      <th>2</th>\n",
       "      <td>Fingerprints of modified gravity effects on ga...</td>\n",
       "      <td>Talk</td>\n",
       "      <td>talk-3</td>\n",
       "      <td>1 st Rio DM meeting</td>\n",
       "      <td>2023-05-01</td>\n",
       "      <td>Rio de Janeiro,Brazil</td>\n",
       "      <td>https://www.youtube.com/@CBPFMCTI</td>\n",
       "      <td>We search for detectable signatures of 𝑓 (𝑅) g...</td>\n",
       "    </tr>\n",
       "    <tr>\n",
       "      <th>3</th>\n",
       "      <td>Redshift evolution of the dark matter haloes s...</td>\n",
       "      <td>Talk</td>\n",
       "      <td>talk-4</td>\n",
       "      <td>A journey through galactic environments</td>\n",
       "      <td>2023-10-01</td>\n",
       "      <td>Porto Ercole, Italy</td>\n",
       "      <td>https://galaxylifecycle.wixsite.com/galacticjo...</td>\n",
       "      <td>In this work, we aim at investigating the morp...</td>\n",
       "    </tr>\n",
       "    <tr>\n",
       "      <th>4</th>\n",
       "      <td>Feedback por binarias de rayos x sobre el ism ...</td>\n",
       "      <td>Poster</td>\n",
       "      <td>Poster-1</td>\n",
       "      <td>64th Annual Reunion of the Argentinian Astrono...</td>\n",
       "      <td>2022-09-01</td>\n",
       "      <td>Buenos Aires,Argentina</td>\n",
       "      <td>https://www.fisica.org.ar/2022/05/05/64a-reuni...</td>\n",
       "      <td>Las caracterçisticas de las primeras generacio...</td>\n",
       "    </tr>\n",
       "    <tr>\n",
       "      <th>5</th>\n",
       "      <td>Study on the evolution of dark matter haloes i...</td>\n",
       "      <td>Talk</td>\n",
       "      <td>Talk-5</td>\n",
       "      <td>64th Annual Reunion of the Argentinian Astrono...</td>\n",
       "      <td>2022-09-01</td>\n",
       "      <td>Buenos Aires,Argentina</td>\n",
       "      <td>https://www.fisica.org.ar/2022/05/05/64a-reuni...</td>\n",
       "      <td>This article analyze the dark matter (dm) halo...</td>\n",
       "    </tr>\n",
       "    <tr>\n",
       "      <th>6</th>\n",
       "      <td>Fingerprints of modified gravity effects on g...</td>\n",
       "      <td>Talk</td>\n",
       "      <td>Talk-6</td>\n",
       "      <td>63th Annual Reunion of the Argentinian Astrono...</td>\n",
       "      <td>2021-09-01</td>\n",
       "      <td>San Luis, Argentina</td>\n",
       "      <td>https://www.fisica.org.ar/2022/05/05/63a-reuni...</td>\n",
       "      <td>We found in this article that for a given stel...</td>\n",
       "    </tr>\n",
       "    <tr>\n",
       "      <th>7</th>\n",
       "      <td>Baryons shaping dark matter haloes</td>\n",
       "      <td>Talk</td>\n",
       "      <td>Talk-7</td>\n",
       "      <td>II Reunion Bi-National AAA-SOCHIAS</td>\n",
       "      <td>2018-10-01</td>\n",
       "      <td>La Serena, Chile</td>\n",
       "      <td>https://sochias.cl/second-binational-meeting-a...</td>\n",
       "      <td>In this work we aim at investigating the effec...</td>\n",
       "    </tr>\n",
       "    <tr>\n",
       "      <th>8</th>\n",
       "      <td>Studying the dark matter halo shape</td>\n",
       "      <td>Talk</td>\n",
       "      <td>Talk-8</td>\n",
       "      <td>Friends-of-friends virtual meeting</td>\n",
       "      <td>2018-08-01</td>\n",
       "      <td>Cordoba, Argentina</td>\n",
       "      <td>NaN</td>\n",
       "      <td>NaN</td>\n",
       "    </tr>\n",
       "    <tr>\n",
       "      <th>9</th>\n",
       "      <td>Estudio numérico de los halos de materia\\noscu...</td>\n",
       "      <td>Talk</td>\n",
       "      <td>Talk-9</td>\n",
       "      <td>n 60th Annual Reunion of the Argentinian Astro...</td>\n",
       "      <td>2017-08-01</td>\n",
       "      <td>Mendoza, Argentina</td>\n",
       "      <td>http://www.astronomiaargentina.org.ar/reuniones</td>\n",
       "      <td>NaN</td>\n",
       "    </tr>\n",
       "  </tbody>\n",
       "</table>\n",
       "</div>"
      ],
      "text/plain": [
       "                                               title    type  url_slug  \\\n",
       "0   Assembly bias and galaxy conformity in cosmo-dc2    Talk    talk-1   \n",
       "1         Evolution of the dark matter haloes shapes    Talk    talk-2   \n",
       "2  Fingerprints of modified gravity effects on ga...    Talk    talk-3   \n",
       "3  Redshift evolution of the dark matter haloes s...    Talk    talk-4   \n",
       "4  Feedback por binarias de rayos x sobre el ism ...  Poster  Poster-1   \n",
       "5  Study on the evolution of dark matter haloes i...    Talk    Talk-5   \n",
       "6   Fingerprints of modified gravity effects on g...    Talk    Talk-6   \n",
       "7                 Baryons shaping dark matter haloes    Talk    Talk-7   \n",
       "8                Studying the dark matter halo shape    Talk    Talk-8   \n",
       "9  Estudio numérico de los halos de materia\\noscu...    Talk    Talk-9   \n",
       "\n",
       "                                               venue        date  \\\n",
       "0        III Workshop on the halo-galaxy\\nConnection  2023-07-01   \n",
       "1  4th Regional Extragalactic Astronomy\\nMeeting,...  2023-12-04   \n",
       "2                                1 st Rio DM meeting  2023-05-01   \n",
       "3            A journey through galactic environments  2023-10-01   \n",
       "4  64th Annual Reunion of the Argentinian Astrono...  2022-09-01   \n",
       "5  64th Annual Reunion of the Argentinian Astrono...  2022-09-01   \n",
       "6  63th Annual Reunion of the Argentinian Astrono...  2021-09-01   \n",
       "7                 II Reunion Bi-National AAA-SOCHIAS  2018-10-01   \n",
       "8                 Friends-of-friends virtual meeting  2018-08-01   \n",
       "9  n 60th Annual Reunion of the Argentinian Astro...  2017-08-01   \n",
       "\n",
       "                 location                                           talk_url  \\\n",
       "0          Atacama, Chile      https://sites.google.com/uda.cl/atacama-2023/   \n",
       "1      Córdoba, Argentina   https://extragalacticmeeting.conicet.unc.edu.ar/   \n",
       "2   Rio de Janeiro,Brazil                  https://www.youtube.com/@CBPFMCTI   \n",
       "3     Porto Ercole, Italy  https://galaxylifecycle.wixsite.com/galacticjo...   \n",
       "4  Buenos Aires,Argentina  https://www.fisica.org.ar/2022/05/05/64a-reuni...   \n",
       "5  Buenos Aires,Argentina  https://www.fisica.org.ar/2022/05/05/64a-reuni...   \n",
       "6     San Luis, Argentina  https://www.fisica.org.ar/2022/05/05/63a-reuni...   \n",
       "7        La Serena, Chile  https://sochias.cl/second-binational-meeting-a...   \n",
       "8      Cordoba, Argentina                                                NaN   \n",
       "9      Mendoza, Argentina    http://www.astronomiaargentina.org.ar/reuniones   \n",
       "\n",
       "                                         description  \n",
       "0  In my talk I will present my partial results i...  \n",
       "1  In this work, we aim at investigating the morp...  \n",
       "2  We search for detectable signatures of 𝑓 (𝑅) g...  \n",
       "3  In this work, we aim at investigating the morp...  \n",
       "4  Las caracterçisticas de las primeras generacio...  \n",
       "5  This article analyze the dark matter (dm) halo...  \n",
       "6  We found in this article that for a given stel...  \n",
       "7  In this work we aim at investigating the effec...  \n",
       "8                                                NaN  \n",
       "9                                                NaN  "
      ]
     },
     "execution_count": 11,
     "metadata": {},
     "output_type": "execute_result"
    }
   ],
   "source": [
    "talks = pd.read_csv(\"talks.tsv\", sep=\"\\t\", header=0)\n",
    "talks"
   ]
  },
  {
   "cell_type": "markdown",
   "metadata": {},
   "source": [
    "## Escape special characters\n",
    "\n",
    "YAML is very picky about how it takes a valid string, so we are replacing single and double quotes (and ampersands) with their HTML encoded equivilents. This makes them look not so readable in raw format, but they are parsed and rendered nicely."
   ]
  },
  {
   "cell_type": "code",
   "execution_count": 12,
   "metadata": {
    "collapsed": false,
    "deletable": true,
    "editable": true
   },
   "outputs": [],
   "source": [
    "html_escape_table = {\n",
    "    \"&\": \"&amp;\",\n",
    "    '\"': \"&quot;\",\n",
    "    \"'\": \"&apos;\"\n",
    "    }\n",
    "\n",
    "def html_escape(text):\n",
    "    if type(text) is str:\n",
    "        return \"\".join(html_escape_table.get(c,c) for c in text)\n",
    "    else:\n",
    "        return \"False\""
   ]
  },
  {
   "cell_type": "markdown",
   "metadata": {},
   "source": [
    "## Creating the markdown files\n",
    "\n",
    "This is where the heavy lifting is done. This loops through all the rows in the TSV dataframe, then starts to concatentate a big string (```md```) that contains the markdown for each type. It does the YAML metadata first, then does the description for the individual page."
   ]
  },
  {
   "cell_type": "code",
   "execution_count": 13,
   "metadata": {
    "collapsed": false,
    "deletable": true,
    "editable": true
   },
   "outputs": [],
   "source": [
    "loc_dict = {}\n",
    "\n",
    "for row, item in talks.iterrows():\n",
    "    \n",
    "    md_filename = str(item.date) + \"-\" + item.url_slug + \".md\"\n",
    "    html_filename = str(item.date) + \"-\" + item.url_slug \n",
    "    year = item.date[:4]\n",
    "    \n",
    "    md = \"---\\ntitle: \\\"\"   + item.title + '\"\\n'\n",
    "    md += \"collection: talks\" + \"\\n\"\n",
    "    \n",
    "    if len(str(item.type)) > 3:\n",
    "        md += 'type: \"' + item.type + '\"\\n'\n",
    "    else:\n",
    "        md += 'type: \"Talk\"\\n'\n",
    "    \n",
    "    md += \"permalink: /talks/\" + html_filename + \"\\n\"\n",
    "    \n",
    "    if len(str(item.venue)) > 3:\n",
    "        md += 'venue: \"' + item.venue + '\"\\n'\n",
    "        \n",
    "    if len(str(item.location)) > 3:\n",
    "        md += \"date: \" + str(item.date) + \"\\n\"\n",
    "    \n",
    "    if len(str(item.location)) > 3:\n",
    "        md += 'location: \"' + str(item.location) + '\"\\n'\n",
    "           \n",
    "    md += \"---\\n\"\n",
    "    \n",
    "    \n",
    "    if len(str(item.talk_url)) > 3:\n",
    "        md += \"\\n[More information here](\" + item.talk_url + \")\\n\" \n",
    "        \n",
    "    \n",
    "    if len(str(item.description)) > 3:\n",
    "        md += \"\\n\" + html_escape(item.description) + \"\\n\"\n",
    "        \n",
    "        \n",
    "    md_filename = os.path.basename(md_filename)\n",
    "    #print(md)\n",
    "    \n",
    "    with open(\"../_talks/\" + md_filename, 'w') as f:\n",
    "        f.write(md)"
   ]
  },
  {
   "cell_type": "markdown",
   "metadata": {},
   "source": [
    "These files are in the talks directory, one directory below where we're working from."
   ]
  },
  {
   "cell_type": "code",
   "execution_count": 14,
   "metadata": {
    "collapsed": false,
    "deletable": true,
    "editable": true
   },
   "outputs": [
    {
     "name": "stdout",
     "output_type": "stream",
     "text": [
      "2017-08-01-Talk-9.md  2022-09-01-Poster-1.md  2023-10-01-talk-4.md\n",
      "2018-08-01-Talk-8.md  2022-09-01-Talk-5.md    2023-12-04-talk-2.md\n",
      "2018-10-01-Talk-7.md  2023-05-01-talk-3.md\n",
      "2021-09-01-Talk-6.md  2023-07-01-talk-1.md\n"
     ]
    }
   ],
   "source": [
    "!ls ../_talks"
   ]
  },
  {
   "cell_type": "code",
   "execution_count": 15,
   "metadata": {
    "collapsed": false,
    "deletable": true,
    "editable": true
   },
   "outputs": [
    {
     "name": "stdout",
     "output_type": "stream",
     "text": [
      "cat: ../_talks/2013-03-01-tutorial-1.md: No such file or directory\n"
     ]
    }
   ],
   "source": [
    "!cat ../_talks/2013-03-01-tutorial-1.md"
   ]
  }
 ],
 "metadata": {
  "kernelspec": {
   "display_name": "Python 3",
   "language": "python",
   "name": "python3"
  },
  "language_info": {
   "codemirror_mode": {
    "name": "ipython",
    "version": 3
   },
   "file_extension": ".py",
   "mimetype": "text/x-python",
   "name": "python",
   "nbconvert_exporter": "python",
   "pygments_lexer": "ipython3",
   "version": "3.9.17"
  }
 },
 "nbformat": 4,
 "nbformat_minor": 0
}
